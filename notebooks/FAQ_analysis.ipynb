{
 "cells": [
  {
   "cell_type": "code",
   "execution_count": 1,
   "metadata": {},
   "outputs": [],
   "source": [
    "import pandas as pd\n",
    "import os\n",
    "import ast"
   ]
  },
  {
   "cell_type": "code",
   "execution_count": 3,
   "metadata": {},
   "outputs": [
    {
     "data": {
      "text/html": [
       "<div>\n",
       "<style scoped>\n",
       "    .dataframe tbody tr th:only-of-type {\n",
       "        vertical-align: middle;\n",
       "    }\n",
       "\n",
       "    .dataframe tbody tr th {\n",
       "        vertical-align: top;\n",
       "    }\n",
       "\n",
       "    .dataframe thead th {\n",
       "        text-align: right;\n",
       "    }\n",
       "</style>\n",
       "<table border=\"1\" class=\"dataframe\">\n",
       "  <thead>\n",
       "    <tr style=\"text-align: right;\">\n",
       "      <th></th>\n",
       "      <th>question</th>\n",
       "      <th>answer</th>\n",
       "    </tr>\n",
       "  </thead>\n",
       "  <tbody>\n",
       "    <tr>\n",
       "      <th>0</th>\n",
       "      <td>Kde sa nahlasujú poruchy na verejnom vodovode ...</td>\n",
       "      <td>Poruchy na verejnom vodovode a verejnej kanali...</td>\n",
       "    </tr>\n",
       "    <tr>\n",
       "      <th>1</th>\n",
       "      <td>Ako mám postupovať, keď zbadám chýbajúci kanal...</td>\n",
       "      <td>V prípade zistenia chýbajúceho kanalizačného p...</td>\n",
       "    </tr>\n",
       "    <tr>\n",
       "      <th>2</th>\n",
       "      <td>Vykonáva BVS, a.s., vyhľadávanie porúch na dom...</td>\n",
       "      <td>BVS, a.s., zabezpečuje primárne vyhľadávanie p...</td>\n",
       "    </tr>\n",
       "    <tr>\n",
       "      <th>3</th>\n",
       "      <td>Za ktorú časť vodovodnej (kanalizačnej) prípoj...</td>\n",
       "      <td>Majiteľ prípojky zodpovedá za celú prípojku až...</td>\n",
       "    </tr>\n",
       "  </tbody>\n",
       "</table>\n",
       "</div>"
      ],
      "text/plain": [
       "                                            question  \\\n",
       "0  Kde sa nahlasujú poruchy na verejnom vodovode ...   \n",
       "1  Ako mám postupovať, keď zbadám chýbajúci kanal...   \n",
       "2  Vykonáva BVS, a.s., vyhľadávanie porúch na dom...   \n",
       "3  Za ktorú časť vodovodnej (kanalizačnej) prípoj...   \n",
       "\n",
       "                                              answer  \n",
       "0  Poruchy na verejnom vodovode a verejnej kanali...  \n",
       "1  V prípade zistenia chýbajúceho kanalizačného p...  \n",
       "2  BVS, a.s., zabezpečuje primárne vyhľadávanie p...  \n",
       "3  Majiteľ prípojky zodpovedá za celú prípojku až...  "
      ]
     },
     "execution_count": 3,
     "metadata": {},
     "output_type": "execute_result"
    }
   ],
   "source": [
    "df = pd.read_csv(r'data\\faq_bvs.csv', encoding = \"cp1250\")\n",
    "df.head()"
   ]
  },
  {
   "cell_type": "code",
   "execution_count": 4,
   "metadata": {},
   "outputs": [],
   "source": [
    "sentence = df.question[2]"
   ]
  },
  {
   "cell_type": "code",
   "execution_count": 5,
   "metadata": {},
   "outputs": [
    {
     "name": "stdout",
     "output_type": "stream",
     "text": [
      "Vykonáva BVS, a.s., vyhľadávanie porúch na domácich rozvodoch vody?\n"
     ]
    }
   ],
   "source": [
    "print(sentence)"
   ]
  },
  {
   "cell_type": "code",
   "execution_count": null,
   "metadata": {
    "collapsed": true
   },
   "outputs": [],
   "source": []
  }
 ],
 "metadata": {
  "kernelspec": {
   "display_name": "Python 3",
   "language": "python",
   "name": "python3"
  },
  "language_info": {
   "codemirror_mode": {
    "name": "ipython",
    "version": 3
   },
   "file_extension": ".py",
   "mimetype": "text/x-python",
   "name": "python",
   "nbconvert_exporter": "python",
   "pygments_lexer": "ipython3",
   "version": "3.6.5"
  }
 },
 "nbformat": 4,
 "nbformat_minor": 2
}
