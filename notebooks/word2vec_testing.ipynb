{
 "cells": [
  {
   "cell_type": "markdown",
   "metadata": {},
   "source": [
    "### Importy"
   ]
  },
  {
   "cell_type": "code",
   "execution_count": 2,
   "metadata": {},
   "outputs": [
    {
     "name": "stderr",
     "output_type": "stream",
     "text": [
      "C:\\Users\\Ondrej\\Anaconda3\\lib\\site-packages\\gensim\\utils.py:1212: UserWarning: detected Windows; aliasing chunkize to chunkize_serial\n",
      "  warnings.warn(\"detected Windows; aliasing chunkize to chunkize_serial\")\n"
     ]
    }
   ],
   "source": [
    "import os\n",
    "import pandas as pd\n",
    "import nltk\n",
    "import gensim\n",
    "from gensim import corpora, models, similarities     \n",
    "from gensim.models.keyedvectors import KeyedVectors\n",
    "\n",
    "import numpy as np\n",
    "from sklearn.manifold import TSNE\n",
    "import matplotlib.pyplot as plt\n",
    "import matplotlib.patheffects as PathEffects\n",
    "import matplotlib\n",
    "%matplotlib inline\n",
    "\n",
    "# We import seaborn to make nice plots.\n",
    "# import seaborn as sns\n",
    "# sns.set_style('darkgrid')\n",
    "# sns.set_palette('muted')\n",
    "# sns.set_context(\"notebook\", font_scale=1.5,\n",
    "#                 rc={\"lines.linewidth\": 2.5})"
   ]
  },
  {
   "cell_type": "markdown",
   "metadata": {},
   "source": [
    "### Načítanie modelu"
   ]
  },
  {
   "cell_type": "code",
   "execution_count": null,
   "metadata": {},
   "outputs": [],
   "source": [
    "fname = '../data/[SK]prim-6.1-public-all.shuffled.080cbow.bin'\n",
    "# fname = '../data/[SK]prim-6.1-public-all.shuffled.300cbow.bin'\n",
    "model = KeyedVectors.load_word2vec_format(fname, binary=True)  # C binary format"
   ]
  },
  {
   "cell_type": "markdown",
   "metadata": {},
   "source": [
    "### Testy"
   ]
  },
  {
   "cell_type": "code",
   "execution_count": 37,
   "metadata": {},
   "outputs": [
    {
     "name": "stderr",
     "output_type": "stream",
     "text": [
      "C:\\Users\\Ondrej\\Anaconda3\\lib\\site-packages\\gensim\\matutils.py:737: FutureWarning: Conversion of the second argument of issubdtype from `int` to `np.signedinteger` is deprecated. In future, it will be treated as `np.int32 == np.dtype(int).type`.\n",
      "  if np.issubdtype(vec.dtype, np.int):\n"
     ]
    },
    {
     "data": {
      "text/plain": [
       "[('vozidlo', 0.9041661024093628),\n",
       " ('audi', 0.815388023853302),\n",
       " ('Vozidlo', 0.8106244802474976),\n",
       " ('autíčko', 0.8058905005455017),\n",
       " ('autá', 0.7575589418411255),\n",
       " ('lietadlo', 0.7411708831787109),\n",
       " ('volvo', 0.7363370060920715),\n",
       " ('motorky', 0.7091933488845825),\n",
       " ('béemvéčko', 0.7005671858787537),\n",
       " ('parkovisko', 0.6991091966629028)]"
      ]
     },
     "execution_count": 37,
     "metadata": {},
     "output_type": "execute_result"
    }
   ],
   "source": [
    "model.most_similar('auto')"
   ]
  },
  {
   "cell_type": "code",
   "execution_count": 39,
   "metadata": {
    "collapsed": true
   },
   "outputs": [
    {
     "name": "stderr",
     "output_type": "stream",
     "text": [
      "C:\\Users\\Ondrej\\Anaconda3\\lib\\site-packages\\gensim\\matutils.py:737: FutureWarning: Conversion of the second argument of issubdtype from `int` to `np.signedinteger` is deprecated. In future, it will be treated as `np.int32 == np.dtype(int).type`.\n",
      "  if np.issubdtype(vec.dtype, np.int):\n"
     ]
    },
    {
     "data": {
      "text/plain": [
       "0.3945008"
      ]
     },
     "execution_count": 39,
     "metadata": {},
     "output_type": "execute_result"
    }
   ],
   "source": [
    "similarity = model.similarity('meno', 'názov')\n",
    "similarity"
   ]
  },
  {
   "cell_type": "code",
   "execution_count": 40,
   "metadata": {
    "collapsed": true
   },
   "outputs": [
    {
     "name": "stderr",
     "output_type": "stream",
     "text": [
      "C:\\Users\\Ondrej\\Anaconda3\\lib\\site-packages\\gensim\\matutils.py:737: FutureWarning: Conversion of the second argument of issubdtype from `int` to `np.signedinteger` is deprecated. In future, it will be treated as `np.int32 == np.dtype(int).type`.\n",
      "  if np.issubdtype(vec.dtype, np.int):\n"
     ]
    },
    {
     "data": {
      "text/plain": [
       "[('jedol', 0.673903226852417),\n",
       " ('piť', 0.6668727397918701),\n",
       " ('Bol', 0.6548153758049011),\n",
       " ('vypiť', 0.6490421295166016),\n",
       " ('jedávať', 0.6437976360321045),\n",
       " ('požiť', 0.6435511112213135),\n",
       " ('Piť', 0.6390882134437561),\n",
       " ('pil', 0.6387069225311279),\n",
       " ('zasýtiť', 0.6346054077148438),\n",
       " ('Jesť', 0.6340925693511963)]"
      ]
     },
     "execution_count": 40,
     "metadata": {},
     "output_type": "execute_result"
    }
   ],
   "source": [
    "result = model.most_similar(positive=['bol', 'jesť'])\n",
    "result"
   ]
  },
  {
   "cell_type": "code",
   "execution_count": 24,
   "metadata": {
    "collapsed": true
   },
   "outputs": [
    {
     "data": {
      "text/plain": [
       "array([ 0.860767  , -2.9218206 , -0.23949303, -3.0608897 ,  1.1330297 ,\n",
       "       -0.02861695,  1.7001405 , -3.3458905 ,  1.7478735 , -3.8184514 ,\n",
       "       -0.7816023 ,  0.5637553 ,  1.3684096 ,  0.38463974,  0.05568203,\n",
       "        2.3973448 , -1.3559191 , -0.5417815 ,  2.1319149 , -0.6393608 ,\n",
       "        2.3632832 ,  2.3470252 , -2.312691  , -1.1669412 ,  1.217863  ,\n",
       "       -2.1645155 ,  0.50951284,  2.9501216 , -1.3900253 ,  0.8769314 ,\n",
       "        1.2879663 ,  0.10091176,  0.9955231 ,  1.8818142 , -2.6936755 ,\n",
       "       -1.2148054 , -1.5949286 ,  2.6695979 ,  1.6858428 , -1.7406914 ,\n",
       "       -0.39150336, -1.2788572 , -3.3159132 , -1.4606671 ,  1.5623341 ,\n",
       "       -1.2308189 ,  3.128792  ,  2.0658107 , -0.6548679 ,  1.1385086 ,\n",
       "        2.7954798 , -1.1037244 ,  2.2877398 ,  1.2918608 , -1.5608547 ,\n",
       "       -0.66290075, -5.0794353 ,  0.8992122 , -1.8186612 ,  0.07498403,\n",
       "       -2.4212875 ,  3.4052322 ,  1.1682613 ,  2.9091916 ,  1.4533259 ,\n",
       "       -1.9738678 ,  1.5130624 ,  3.2635243 ,  1.6918337 , -0.0616025 ,\n",
       "        0.98293537,  0.6798501 , -4.181865  , -0.30301696,  1.0420439 ,\n",
       "        7.093019  , -2.5195177 ,  0.1300613 ,  1.413133  ,  3.8428802 ],\n",
       "      dtype=float32)"
      ]
     },
     "execution_count": 24,
     "metadata": {},
     "output_type": "execute_result"
    }
   ],
   "source": [
    "model['pes']"
   ]
  },
  {
   "cell_type": "markdown",
   "metadata": {},
   "source": [
    "# Vizualizacia"
   ]
  },
  {
   "cell_type": "code",
   "execution_count": 25,
   "metadata": {},
   "outputs": [],
   "source": [
    "def display_closestwords_tsnescatterplot(model, word):\n",
    "    \n",
    "    arr = np.empty((0,300), dtype='f')\n",
    "    word_labels = [word]\n",
    "\n",
    "    # get close words\n",
    "    close_words = model.similar_by_word(word)\n",
    "    \n",
    "    # add the vector for each of the closest words to the array\n",
    "    arr = np.append(arr, np.array([model[word]]), axis=0)\n",
    "    for wrd_score in close_words:\n",
    "        wrd_vector = model[wrd_score[0]]\n",
    "        word_labels.append(wrd_score[0])\n",
    "        arr = np.append(arr, np.array([wrd_vector]), axis=0)\n",
    "        \n",
    "    # find tsne coords for 2 dimensions\n",
    "    tsne = TSNE(n_components=2, random_state=0)\n",
    "    np.set_printoptions(suppress=True)\n",
    "    Y = tsne.fit_transform(arr)\n",
    "\n",
    "    x_coords = Y[:, 0]\n",
    "    y_coords = Y[:, 1]\n",
    "    # display scatter plot\n",
    "    plt.scatter(x_coords, y_coords)\n",
    "\n",
    "    for label, x, y in zip(word_labels, x_coords, y_coords):\n",
    "        plt.annotate(label, xy=(x, y), xytext=(0, 0), textcoords='offset points')\n",
    "    plt.xlim(x_coords.min()+0.00005, x_coords.max()+0.00005)\n",
    "    plt.ylim(y_coords.min()+0.00005, y_coords.max()+0.00005)\n",
    "    plt.show()"
   ]
  },
  {
   "cell_type": "markdown",
   "metadata": {},
   "source": [
    "**Data**"
   ]
  },
  {
   "cell_type": "code",
   "execution_count": 42,
   "metadata": {
    "collapsed": true
   },
   "outputs": [
    {
     "data": {
      "text/plain": [
       "[array([ 6.3795547 , -0.97838956,  0.3750206 , -1.4613653 ,  2.5219264 ,\n",
       "        -4.8393726 ,  2.8242862 ,  3.981361  ,  1.7898583 ,  0.16058654,\n",
       "         3.551349  , -0.49140456, -0.22705519,  1.8347917 ,  4.4453855 ,\n",
       "         0.0925376 ,  0.89997894, -1.3199782 ,  2.3417435 ,  0.14632091,\n",
       "         3.537638  , -0.16038834, -2.7785077 ,  2.5390418 , -0.7708087 ,\n",
       "        -1.7899157 ,  3.9031208 , -0.730034  ,  2.7108388 , -1.1352115 ,\n",
       "        -2.3458776 ,  2.2328036 , -2.414947  ,  1.4559479 ,  1.4785495 ,\n",
       "        -0.26149175, -3.585833  , -2.4899848 , -0.11258855, -3.65091   ,\n",
       "         1.9302531 ,  0.15543489, -0.46125433, -1.728584  ,  0.2571503 ,\n",
       "        -3.471901  , -2.5438383 ,  2.6025264 , -0.67824376,  0.2774424 ,\n",
       "        -3.2683468 , -1.1842861 ,  1.1165274 ,  0.9252279 ,  2.2897642 ,\n",
       "        -3.053933  , -5.272047  , -2.4476638 , -2.6326048 ,  5.406046  ,\n",
       "        -0.537923  ,  3.6721156 , -0.8427473 , -0.95160526,  1.8048304 ,\n",
       "        -1.337155  , -1.200595  ,  1.2166647 ,  0.9064089 ,  1.8478622 ,\n",
       "        -0.38066977,  4.3409734 ,  0.22268498,  4.1668105 , -2.7351918 ,\n",
       "         4.267584  , -2.1457047 , -1.7825397 ,  1.787069  ,  1.1651973 ],\n",
       "       dtype=float32),\n",
       " array([ 2.03084   , -1.8470237 ,  1.586825  , -1.0809515 ,  1.4830383 ,\n",
       "        -1.1929082 ,  2.6296566 ,  0.73666334,  0.56076294,  2.7380939 ,\n",
       "         2.6154776 , -3.7191553 ,  0.5365019 , -0.80556935, -1.1720605 ,\n",
       "         1.4208283 ,  0.11136711,  1.3040435 ,  1.8717915 ,  0.4285411 ,\n",
       "         0.69175047,  0.80292666, -4.7888174 ,  0.02475271,  1.1265614 ,\n",
       "        -0.6603317 ,  0.30725724, -0.45228797, -0.01243732, -0.45645788,\n",
       "        -0.13929579, -1.6804061 ,  0.574132  ,  2.1984067 , -1.7753414 ,\n",
       "         0.12696111, -0.20202583, -0.57410645,  0.2674777 , -1.4251925 ,\n",
       "        -1.1149263 , -0.34787282, -1.8788084 ,  0.08113823,  1.6844388 ,\n",
       "        -0.64558476, -1.6700857 , -0.665749  ,  0.74890447, -3.8213422 ,\n",
       "        -0.20860456,  0.99192077,  0.7590867 ,  0.9601389 ,  0.42880797,\n",
       "        -0.7386123 , -0.45189917, -1.0647916 , -0.67451143, -3.8367014 ,\n",
       "         0.43232134, -1.361367  ,  1.0275217 ,  1.5608536 , -3.4986708 ,\n",
       "         0.3113895 ,  0.67660713,  3.8386962 , -0.8921022 , -0.01379247,\n",
       "        -2.2707858 , -1.9557779 ,  1.0726144 ,  1.9771311 ,  1.9634933 ,\n",
       "         0.8630562 , -0.00687388, -0.9954196 ,  1.2955533 ,  0.91804415],\n",
       "       dtype=float32),\n",
       " array([ 1.8505433 , -1.690514  ,  2.0477734 , -0.8607323 ,  2.500891  ,\n",
       "        -0.29130727,  2.2737675 ,  0.6220956 ,  0.5133473 ,  1.7227609 ,\n",
       "         2.590578  , -3.7312214 ,  0.47785637, -0.81115013, -1.4348223 ,\n",
       "         2.0360174 ,  0.2953233 ,  0.65949416,  2.1780112 ,  0.31716296,\n",
       "         0.18556505,  0.8910003 , -4.9722824 ,  0.5434363 ,  2.4205592 ,\n",
       "        -0.09607884,  0.157148  ,  0.41758975,  1.1142442 , -0.11302941,\n",
       "        -0.30625418, -2.6397443 ,  0.28510603,  2.5762641 , -1.0397176 ,\n",
       "         1.0476274 ,  0.59684765, -0.6173525 , -1.3556174 , -2.0883327 ,\n",
       "        -0.47658566, -1.0572703 , -2.3374052 ,  0.8954685 ,  2.438671  ,\n",
       "        -0.00711665, -1.0064834 , -0.87854284,  1.0952561 , -4.2045803 ,\n",
       "         0.0636441 ,  0.13291293,  1.7056997 ,  0.71139824, -0.25740835,\n",
       "         0.27904615, -0.21599   , -0.6526996 , -0.5492472 , -2.7878315 ,\n",
       "        -0.7007837 , -0.7875962 ,  1.5183414 ,  1.4561945 , -2.229234  ,\n",
       "         0.5196751 , -0.47999066,  3.145095  , -1.6097798 , -0.10261517,\n",
       "        -2.3058805 , -1.7353069 ,  1.4358239 ,  1.6300122 ,  0.7042676 ,\n",
       "         1.2301815 , -0.5576049 , -1.6805804 ,  0.76872545,  1.083499  ],\n",
       "       dtype=float32),\n",
       " array([ 3.0568032 , -1.479093  ,  1.9577919 , -1.2551434 ,  0.96167916,\n",
       "        -1.29501   ,  2.5704987 ,  0.3945214 ,  1.8837811 ,  2.5084944 ,\n",
       "         2.1943111 , -3.6706762 ,  1.3240978 , -0.9602778 ,  0.02256832,\n",
       "         1.8209896 ,  0.23050635,  0.58329976,  2.1923168 , -0.14726025,\n",
       "        -0.10802619,  0.6358588 , -4.4039817 , -0.10943747,  2.0631633 ,\n",
       "        -0.4348954 , -0.65794855,  0.3987587 , -0.15171984,  0.2756984 ,\n",
       "         0.4899766 , -1.5891194 ,  0.05740659,  2.537044  , -1.5879657 ,\n",
       "        -0.20167862,  0.02525877, -0.32850495,  0.9026811 , -1.5112444 ,\n",
       "        -1.7962312 , -0.40234342, -3.0251625 , -0.06916161,  1.7990351 ,\n",
       "         0.00871999, -0.5904393 , -0.8153835 ,  2.4755735 , -4.868346  ,\n",
       "        -0.4178793 ,  1.6522282 ,  1.3131058 ,  0.08166046,  0.35084373,\n",
       "         0.13477838, -0.22015372, -1.4678801 , -1.3613399 , -3.9898949 ,\n",
       "        -0.9953137 , -1.5610338 ,  1.5803677 ,  2.8881028 , -3.491061  ,\n",
       "        -0.04429593, -1.3105118 ,  3.2554266 , -0.5318771 , -0.5306951 ,\n",
       "        -1.7672021 , -1.3294693 , -0.3148686 ,  1.8928432 ,  2.1187935 ,\n",
       "         1.7871869 , -0.9777889 , -1.3155284 ,  1.3686787 , -0.2516487 ],\n",
       "       dtype=float32)]"
      ]
     },
     "execution_count": 42,
     "metadata": {},
     "output_type": "execute_result"
    }
   ],
   "source": [
    "slova = ['auto','modrá','zelená','biela']\n",
    "sent = [model[v] for v in slova] \n",
    "sent"
   ]
  },
  {
   "cell_type": "code",
   "execution_count": 43,
   "metadata": {},
   "outputs": [
    {
     "name": "stderr",
     "output_type": "stream",
     "text": [
      "C:\\Users\\Ondrej\\Anaconda3\\lib\\site-packages\\gensim\\matutils.py:737: FutureWarning: Conversion of the second argument of issubdtype from `int` to `np.signedinteger` is deprecated. In future, it will be treated as `np.int32 == np.dtype(int).type`.\n",
      "  if np.issubdtype(vec.dtype, np.int):\n"
     ]
    },
    {
     "data": {
      "text/plain": [
       "'auto'"
      ]
     },
     "execution_count": 43,
     "metadata": {},
     "output_type": "execute_result"
    }
   ],
   "source": [
    "model.doesnt_match(slova)"
   ]
  },
  {
   "cell_type": "markdown",
   "metadata": {},
   "source": [
    "**Znizene dimenzii**"
   ]
  },
  {
   "cell_type": "code",
   "execution_count": 44,
   "metadata": {},
   "outputs": [
    {
     "data": {
      "text/html": [
       "<div>\n",
       "<style scoped>\n",
       "    .dataframe tbody tr th:only-of-type {\n",
       "        vertical-align: middle;\n",
       "    }\n",
       "\n",
       "    .dataframe tbody tr th {\n",
       "        vertical-align: top;\n",
       "    }\n",
       "\n",
       "    .dataframe thead th {\n",
       "        text-align: right;\n",
       "    }\n",
       "</style>\n",
       "<table border=\"1\" class=\"dataframe\">\n",
       "  <thead>\n",
       "    <tr style=\"text-align: right;\">\n",
       "      <th></th>\n",
       "      <th>x</th>\n",
       "      <th>y</th>\n",
       "    </tr>\n",
       "  </thead>\n",
       "  <tbody>\n",
       "    <tr>\n",
       "      <th>0</th>\n",
       "      <td>-243.981949</td>\n",
       "      <td>-24.713718</td>\n",
       "    </tr>\n",
       "    <tr>\n",
       "      <th>1</th>\n",
       "      <td>-431.362274</td>\n",
       "      <td>-138.490280</td>\n",
       "    </tr>\n",
       "    <tr>\n",
       "      <th>2</th>\n",
       "      <td>-317.595825</td>\n",
       "      <td>-325.876740</td>\n",
       "    </tr>\n",
       "    <tr>\n",
       "      <th>3</th>\n",
       "      <td>-130.215485</td>\n",
       "      <td>-212.100128</td>\n",
       "    </tr>\n",
       "  </tbody>\n",
       "</table>\n",
       "</div>"
      ],
      "text/plain": [
       "            x           y\n",
       "0 -243.981949  -24.713718\n",
       "1 -431.362274 -138.490280\n",
       "2 -317.595825 -325.876740\n",
       "3 -130.215485 -212.100128"
      ]
     },
     "execution_count": 44,
     "metadata": {},
     "output_type": "execute_result"
    }
   ],
   "source": [
    "sent_reducted = TSNE(n_components=2, random_state=0).fit_transform(sent)\n",
    "df = pd.DataFrame(sent_reducted, columns=['x','y'])\n",
    "df"
   ]
  },
  {
   "cell_type": "markdown",
   "metadata": {},
   "source": [
    "**Diagram**"
   ]
  },
  {
   "cell_type": "code",
   "execution_count": 45,
   "metadata": {},
   "outputs": [
    {
     "data": {
      "image/png": "[encoded data removed]",
      "text/plain": [
       "<Figure size 432x288 with 1 Axes>"
      ]
     },
     "metadata": {},
     "output_type": "display_data"
    }
   ],
   "source": [
    "colors = (0,0,0)\n",
    "plt.scatter(df['x'], df['y'])\n",
    "plt.title('Zobrazenie vektorov do 2D')\n",
    "plt.show()"
   ]
  },
  {
   "cell_type": "markdown",
   "metadata": {
    "collapsed": true
   },
   "source": [
    "# ---------------------------------------------------"
   ]
  },
  {
   "cell_type": "code",
   "execution_count": null,
   "metadata": {},
   "outputs": [],
   "source": [
    "result = model.most_similar(positive=['žena', 'kráľ'], negative=['muž'])\n",
    "print(\"{}: {:.4f}\".format(*result[0]))"
   ]
  },
  {
   "cell_type": "code",
   "execution_count": null,
   "metadata": {},
   "outputs": [],
   "source": [
    "print(model.doesnt_match(\"raňajky jedlo večera obed\".split()))"
   ]
  },
  {
   "cell_type": "code",
   "execution_count": null,
   "metadata": {},
   "outputs": [],
   "source": [
    "similarity = model.similarity('žena', 'muž')\n",
    "similarity > 0.8"
   ]
  },
  {
   "cell_type": "code",
   "execution_count": null,
   "metadata": {},
   "outputs": [],
   "source": [
    "result = model.similar_by_word(\"mačka\")\n",
    "print(\"{}: {:.4f}\".format(*result[0]))\n",
    "result"
   ]
  },
  {
   "cell_type": "markdown",
   "metadata": {},
   "source": [
    "## WMD podobnosť"
   ]
  },
  {
   "cell_type": "code",
   "execution_count": null,
   "metadata": {},
   "outputs": [],
   "source": [
    "sentence_obama = 'Obama hovorí ku médiam v Prahe'.lower().split()\n",
    "sentence_president = 'Prezident víta novinárov v Česku'.lower().split()"
   ]
  },
  {
   "cell_type": "code",
   "execution_count": null,
   "metadata": {
    "scrolled": true
   },
   "outputs": [],
   "source": [
    "similarity = model.wmdistance(sentence_obama, sentence_president)\n",
    "print(\"{:.4f}\".format(similarity))"
   ]
  },
  {
   "cell_type": "code",
   "execution_count": null,
   "metadata": {},
   "outputs": [],
   "source": [
    "distance = model.distance(\"média\", \"média\")\n",
    "distance"
   ]
  },
  {
   "cell_type": "code",
   "execution_count": null,
   "metadata": {},
   "outputs": [],
   "source": [
    "result = model.similar_by_word(\"mačka\")\n",
    "result"
   ]
  },
  {
   "cell_type": "code",
   "execution_count": null,
   "metadata": {},
   "outputs": [],
   "source": [
    "sim = model.n_similarity(['sushi', 'obchod'], ['japonská', 'reštaurácia'])\n",
    "sim"
   ]
  },
  {
   "cell_type": "code",
   "execution_count": null,
   "metadata": {},
   "outputs": [],
   "source": [
    "vector = model['počítač']  # numpy vector of a word\n",
    "vector.shape"
   ]
  },
  {
   "cell_type": "code",
   "execution_count": null,
   "metadata": {},
   "outputs": [],
   "source": [
    "vector = model.wv.word_vec('úrad', use_norm=True)\n",
    "vector.shape"
   ]
  },
  {
   "cell_type": "markdown",
   "metadata": {},
   "source": [
    "# ---------------------------------------------------"
   ]
  },
  {
   "cell_type": "code",
   "execution_count": 3,
   "metadata": {},
   "outputs": [
    {
     "data": {
      "image/png": "[encoded data removed]",
      "text/plain": [
       "<Figure size 432x288 with 1 Axes>"
      ]
     },
     "metadata": {},
     "output_type": "display_data"
    }
   ],
   "source": [
    "# Create data\n",
    "N = 60\n",
    "g1 = (0.6 + 0.6 * np.random.rand(N), np.random.rand(N))\n",
    "g2 = (0.4+0.3 * np.random.rand(N), 0.5*np.random.rand(N))\n",
    "g3 = (0.3*np.random.rand(N),0.3*np.random.rand(N))\n",
    " \n",
    "data = (g1, g2, g3)\n",
    "colors = (\"red\", \"green\", \"blue\")\n",
    "groups = (\"coffee\", \"tea\", \"water\") \n",
    " \n",
    "# Create plot\n",
    "fig = plt.figure()\n",
    "ax = fig.add_subplot(1, 1, 1,)\n",
    " \n",
    "for data, color, group in zip(data, colors, groups):\n",
    "    x, y = data\n",
    "    ax.scatter(x, y, alpha=0.8, c=color, edgecolors='none', s=30, label=group)\n",
    " \n",
    "plt.title('Matplot scatter plot')\n",
    "plt.legend(loc=2)\n",
    "plt.show()"
   ]
  }
 ],
 "metadata": {
  "kernelspec": {
   "display_name": "Python 3",
   "language": "python",
   "name": "python3"
  },
  "language_info": {
   "codemirror_mode": {
    "name": "ipython",
    "version": 3
   },
   "file_extension": ".py",
   "mimetype": "text/x-python",
   "name": "python",
   "nbconvert_exporter": "python",
   "pygments_lexer": "ipython3",
   "version": "3.6.5"
  }
 },
 "nbformat": 4,
 "nbformat_minor": 2
}
